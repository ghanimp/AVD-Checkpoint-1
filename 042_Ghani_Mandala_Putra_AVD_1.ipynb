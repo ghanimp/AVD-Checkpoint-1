{
  "nbformat": 4,
  "nbformat_minor": 0,
  "metadata": {
    "colab": {
      "provenance": [],
      "collapsed_sections": [
        "khSV-hVk1R69"
      ],
      "authorship_tag": "ABX9TyODjxKWZ9jQEwRFWhf7W23V",
      "include_colab_link": true
    },
    "kernelspec": {
      "name": "python3",
      "display_name": "Python 3"
    },
    "language_info": {
      "name": "python"
    }
  },
  "cells": [
    {
      "cell_type": "markdown",
      "metadata": {
        "id": "view-in-github",
        "colab_type": "text"
      },
      "source": [
        "<a href=\"https://colab.research.google.com/github/ghanimp/AVD-Checkpoint-1/blob/main/042_Ghani_Mandala_Putra_AVD_1.ipynb\" target=\"_parent\"><img src=\"https://colab.research.google.com/assets/colab-badge.svg\" alt=\"Open In Colab\"/></a>"
      ]
    },
    {
      "cell_type": "markdown",
      "source": [
        "# BUSINESS UNDERSTANDING"
      ],
      "metadata": {
        "id": "khSV-hVk1R69"
      }
    },
    {
      "cell_type": "markdown",
      "source": [
        "## Business Objective"
      ],
      "metadata": {
        "id": "SkdtsD613zOr"
      }
    },
    {
      "cell_type": "markdown",
      "source": [
        "Proyek ini bertujuan untuk mengembangkan model prediksi harga laptop berbasis machine learning yang akurat berdasarkan spesifikasi. Model ini akan membantu konsumen, retailer, dan produsen dalam menetapkan harga yang adil, mengoptimalkan strategi harga, serta membuat keputusan berbasis data. Dengan memahami faktor-faktor yang mempengaruhi harga dan memanfaatkan analitik data, proyek ini akan menciptakan sistem prediksi yang transparan dan efisien di pasar laptop."
      ],
      "metadata": {
        "id": "2P5IWrih4igP"
      }
    },
    {
      "cell_type": "markdown",
      "source": [
        "## Asses Situation"
      ],
      "metadata": {
        "id": "VcPkkLiv4Pun"
      }
    },
    {
      "cell_type": "markdown",
      "source": [
        "Situasi bisnis yang mendasari analisis ini adalah lingkungan pasar yang semakin kompetitif dan dinamis di industri teknologi, khususnya dalam penjualan laptop. Perkembangan teknologi, dan variasi spesifikasi produk mengharuskan perusahaan untuk memiliki pemahaman yang mendalam tentang faktor-faktor yang memengaruhi harga laptop. Pengembangan model prediksi harga berbasis spesifikasi menjadi penting untuk meningkatkan efisiensi operasional, membantu strategi penetapan harga, dan memberikan rekomendasi yang lebih akurat kepada pelanggan. Oleh karena itu, analisis prediksi harga laptop berdasarkan spesifikasi menjadi krusial dalam mengidentifikasi peluang dan tantangan dalam menghadapi pasar teknologi yang terus berkembang."
      ],
      "metadata": {
        "id": "3upjIKFF4ei0"
      }
    },
    {
      "cell_type": "markdown",
      "source": [
        "## Data Mining Goals"
      ],
      "metadata": {
        "id": "kMHnyY0R4z4h"
      }
    },
    {
      "cell_type": "markdown",
      "source": [
        "Dengan mencari informasi tentang spesifikasi laptop, dapat membantu mengidentifikasi dan menganalisis faktor-faktor yang mempengaruhi harga laptop berdasarkan berbagai aspek seperti merek, spesifikasi teknis, perangkat lunak, serta tambahan aksesori dan desain. Selain itu, analisis dapat mengungkap sejauh mana faktor estetika dan merek dapat menentukan suatu harga laptop."
      ],
      "metadata": {
        "id": "wvQ7dlrK47Wr"
      }
    },
    {
      "cell_type": "markdown",
      "source": [
        "## Project Plan"
      ],
      "metadata": {
        "id": "Rgbh9b0t49I1"
      }
    },
    {
      "cell_type": "markdown",
      "source": [
        "Proyek ini akan dimulai dengan penelitian mengenai faktor-faktor yang memengaruhi harga laptop, seperti merek, spesifikasi teknis, perangkat lunak bawaan, aksesori tambahan, dan desain. Tahap awal mencakup pengumpulan data dari berbagai sumber, termasuk e-commerce dan situs resmi produsen laptop. Setelah data terkumpul, analisis eksploratif akan dilakukan untuk mengidentifikasi tren harga serta faktor dominan yang berpengaruh. Selain itu, proyek ini juga akan mengevaluasi dampak paket pembelian terhadap harga laptop, termasuk apakah keberadaan aksesori seperti monitor, keyboard, mouse, atau printer memberikan nilai tambah yang signifikan. Pada tahap akhir, hasil penelitian akan dirangkum dalam laporan analitis yang dilengkapi dengan visualisasi data, memberikan wawasan mendalam mengenai strategi penetapan harga di industri laptop."
      ],
      "metadata": {
        "id": "CNN-BtEE5Jss"
      }
    }
  ]
}